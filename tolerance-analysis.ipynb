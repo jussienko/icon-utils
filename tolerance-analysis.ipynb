{
 "cells": [
  {
   "cell_type": "code",
   "execution_count": 3,
   "id": "8ba33926-dd54-45bf-b19c-8e33bcbb72b4",
   "metadata": {},
   "outputs": [],
   "source": [
    "import numpy as np\n",
    "import pandas as pd\n",
    "# stuff from probtest\n",
    "CHECK_THRESHOLD = 1e-15\n",
    "compute_statistics = [\"mean\", \"max\", \"min\"]\n",
    "\n",
    "def parse_probtest_csv(path, index_col):\n",
    "    df = pd.read_csv(path, index_col=index_col, header=[0, 1])\n",
    "\n",
    "    times = df.columns.levels[0].astype(int)\n",
    "    df.columns = df.columns.set_levels(times, level=0)\n",
    "\n",
    "    # the dataframe's time column will be read as string,\n",
    "    # thus ordered like \"0\", \"1\", \"10\", \"11\", .. \"2\", ...\n",
    "    new_cols = pd.MultiIndex.from_product(\n",
    "        [sorted(df.columns.levels[0]), df.columns.levels[1]],\n",
    "        names=df.columns.names,\n",
    "    )\n",
    "\n",
    "    return pd.DataFrame(df, columns=new_cols)\n",
    "\n",
    "def compute_rel_diff_dataframe(df1, df2):\n",
    "    average = (df1 + df2) / 2\n",
    "    out = (df1 - df2) / average\n",
    "    out = out.abs()\n",
    "    # put 0 if both numbers are very small\n",
    "    zeros = np.logical_and(df1.abs() < CHECK_THRESHOLD, df2.abs() < CHECK_THRESHOLD)\n",
    "    out[zeros] = 0.0\n",
    "    return out"
   ]
  },
  {
   "cell_type": "code",
   "execution_count": 8,
   "id": "868a8e1f-bb5d-4230-bc11-a88aa8c83da9",
   "metadata": {},
   "outputs": [
    {
     "name": "stderr",
     "output_type": "stream",
     "text": [
      "/tmp/ipykernel_94279/2032966215.py:7: FutureWarning: The behavior of DataFrame.idxmax with all-NA values, or any-NA and skipna=False, is deprecated. In a future version this will raise ValueError\n",
      "  reldif.abs().idxmax(axis=0)\n"
     ]
    },
    {
     "data": {
      "text/plain": [
       "time  statistic\n",
       "0     max           (NetCDF:*tend_ta_vdf_ml*.nc, tend_ta_vdf, 4.0)\n",
       "      mean         (NetCDF:*tend_ta_vdf_ml*.nc, tend_ta_vdf, 11.0)\n",
       "      min           (NetCDF:*tend_ta_vdf_ml*.nc, tend_ta_vdf, 7.0)\n",
       "1     max           (NetCDF:*tend_ta_vdf_ml*.nc, tend_ta_vdf, 4.0)\n",
       "      mean         (NetCDF:*tend_ta_vdf_ml*.nc, tend_ta_vdf, 11.0)\n",
       "      min           (NetCDF:*tend_ta_vdf_ml*.nc, tend_ta_vdf, 7.0)\n",
       "2     max           (NetCDF:*tend_ta_vdf_ml*.nc, tend_ta_vdf, 6.0)\n",
       "      mean         (NetCDF:*tend_ta_vdf_ml*.nc, tend_ta_vdf, 11.0)\n",
       "      min           (NetCDF:*tend_ta_vdf_ml*.nc, tend_ta_vdf, 7.0)\n",
       "3     max           (NetCDF:*tend_ta_vdf_ml*.nc, tend_ta_vdf, 6.0)\n",
       "      mean         (NetCDF:*tend_ta_vdf_ml*.nc, tend_ta_vdf, 11.0)\n",
       "      min           (NetCDF:*tend_ta_vdf_ml*.nc, tend_ta_vdf, 3.0)\n",
       "4     max           (NetCDF:*tend_ta_vdf_ml*.nc, tend_ta_vdf, 7.0)\n",
       "      mean         (NetCDF:*tend_ta_vdf_ml*.nc, tend_ta_vdf, 11.0)\n",
       "      min           (NetCDF:*tend_ta_vdf_ml*.nc, tend_ta_vdf, 2.0)\n",
       "5     max           (NetCDF:*tend_ta_vdf_ml*.nc, tend_ta_vdf, 5.0)\n",
       "      mean         (NetCDF:*tend_ta_vdf_ml*.nc, tend_ta_vdf, 11.0)\n",
       "      min           (NetCDF:*tend_ta_vdf_ml*.nc, tend_ta_vdf, 2.0)\n",
       "6     max                                                      NaN\n",
       "      mean                                                     NaN\n",
       "      min                                                      NaN\n",
       "dtype: object"
      ]
     },
     "execution_count": 8,
     "metadata": {},
     "output_type": "execute_result"
    }
   ],
   "source": [
    "stats_cpu = parse_probtest_csv('../analysis/levante-qubic/stats_ref.csv', index_col=[0, 1, 2])\n",
    "stats_gpu = parse_probtest_csv('../analysis/levante-qubic/stats_gpu_O2.csv', index_col=[0, 1, 2])\n",
    "\n",
    "tend_ta_vdf_cpu = stats_cpu.loc[('NetCDF:*tend_ta_vdf_ml*.nc', 'tend_ta_vdf', slice(None)), :]\n",
    "tend_ta_vdf_gpu = stats_gpu.loc[('NetCDF:*tend_ta_vdf_ml*.nc', 'tend_ta_vdf', slice(None)), :]\n",
    "reldif = compute_rel_diff_dataframe(tend_ta_vdf_cpu, tend_ta_vdf_gpu)\n",
    "reldif.abs().idxmax(axis=0)"
   ]
  },
  {
   "cell_type": "code",
   "execution_count": 6,
   "id": "1ea8b871-f37e-4c9e-a872-0c6f4a439d8f",
   "metadata": {},
   "outputs": [
    {
     "name": "stdout",
     "output_type": "stream",
     "text": [
      "-2.2135070154213934e-14 -2.1800898518352112e-14\n",
      "-3.3417163586182203e-16 0.015328342342427519\n"
     ]
    }
   ],
   "source": [
    "# mean is max at layer 11.0\n",
    "v1_cpu = tend_ta_vdf_cpu.loc[('NetCDF:*tend_ta_vdf_ml*.nc', 'tend_ta_vdf', 11.0), (0, 'mean')]\n",
    "v1_gpu = tend_ta_vdf_gpu.loc[('NetCDF:*tend_ta_vdf_ml*.nc', 'tend_ta_vdf', 11.0), (0, 'mean')]\n",
    "print(v1_cpu, v1_gpu)\n",
    "print(v1_cpu - v1_gpu, (v1_cpu - v1_gpu) / v1_gpu)"
   ]
  },
  {
   "cell_type": "code",
   "execution_count": null,
   "id": "69fce613-37a0-448a-825c-a1875d2ea8d6",
   "metadata": {},
   "outputs": [],
   "source": []
  }
 ],
 "metadata": {
  "kernelspec": {
   "display_name": "Python 3 (ipykernel)",
   "language": "python",
   "name": "python3"
  },
  "language_info": {
   "codemirror_mode": {
    "name": "ipython",
    "version": 3
   },
   "file_extension": ".py",
   "mimetype": "text/x-python",
   "name": "python",
   "nbconvert_exporter": "python",
   "pygments_lexer": "ipython3",
   "version": "3.9.12"
  }
 },
 "nbformat": 4,
 "nbformat_minor": 5
}
